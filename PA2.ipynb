{
 "cells": [
  {
   "cell_type": "markdown",
   "id": "2ee20b75-0e1b-4f0f-af79-6247b0b6ba13",
   "metadata": {},
   "source": [
    "Assignment #2, Robert MacMichael, spring 2025"
   ]
  },
  {
   "cell_type": "markdown",
   "id": "f6871d87-d350-4792-aea8-bef766494faa",
   "metadata": {},
   "source": [
    "Task 1: Personal Information "
   ]
  },
  {
   "cell_type": "code",
   "execution_count": 1,
   "id": "7d8e50a8-ea3f-46a2-a5a6-b38c2f1b56d0",
   "metadata": {},
   "outputs": [],
   "source": [
    "myname = 'Robert MacMichael'\n",
    "mymajor = 'Business Administration'\n",
    "mygame = 'lacrosse'\n",
    "mytown = 'Bloomfield, MI'"
   ]
  },
  {
   "cell_type": "code",
   "execution_count": 3,
   "id": "70bd8cc4-3ea4-47a7-8b85-528ed5353176",
   "metadata": {},
   "outputs": [
    {
     "name": "stdout",
     "output_type": "stream",
     "text": [
      "My name is Robert MacMichael, I am pursuing a degree in Business Administration, my favorite game is lacrosse, and my hometown is Bloomfield, MI.\n"
     ]
    }
   ],
   "source": [
    "print('My name is ' + myname + ', I am pursuing a degree in ' + mymajor + ', my favorite game is ' + mygame + ', and my hometown is ' + mytown +'.')"
   ]
  },
  {
   "cell_type": "markdown",
   "id": "59f6f9cd-af20-44a8-96c7-55fa1061d6a7",
   "metadata": {},
   "source": [
    "Task 2: Temperature Conversion "
   ]
  },
  {
   "cell_type": "code",
   "execution_count": 66,
   "id": "b32dc867-1a43-4f79-a93c-1efe6e073cd1",
   "metadata": {},
   "outputs": [
    {
     "name": "stdin",
     "output_type": "stream",
     "text": [
      "What is the temperature in farenheit?: 32\n"
     ]
    }
   ],
   "source": [
    "farenheitTemp = int(input('What is the temperature in farenheit?:'))"
   ]
  },
  {
   "cell_type": "code",
   "execution_count": 68,
   "id": "2243f500-a972-4e66-b3fe-562ca493dd00",
   "metadata": {},
   "outputs": [],
   "source": [
    "celciusTemp = (farenheitTemp - 32) * 5 / 9"
   ]
  },
  {
   "cell_type": "code",
   "execution_count": 72,
   "id": "2043bd7e-4611-4d98-9eb6-217c39d715b7",
   "metadata": {},
   "outputs": [
    {
     "name": "stdout",
     "output_type": "stream",
     "text": [
      "The temperature is 32°F, which is the equivalent to 0.0°C.\n"
     ]
    }
   ],
   "source": [
    "print('The temperature is ' + str(farenheitTemp) + '°F, which is the equivalent to ' + str(celciusTemp) + '°C.')"
   ]
  },
  {
   "cell_type": "markdown",
   "id": "8e813c1f-46f5-4bef-9baf-c77178f55735",
   "metadata": {},
   "source": [
    "Task 3: Simple Calculator "
   ]
  },
  {
   "cell_type": "code",
   "execution_count": 74,
   "id": "4287c83e-80fa-452d-84fa-5d3db3b59b6e",
   "metadata": {},
   "outputs": [],
   "source": [
    "num1 = 2\n",
    "num2 = 5"
   ]
  },
  {
   "cell_type": "code",
   "execution_count": 80,
   "id": "cee35d41-d544-429c-801a-749d8f22a9ed",
   "metadata": {},
   "outputs": [
    {
     "name": "stdout",
     "output_type": "stream",
     "text": [
      "3\n"
     ]
    }
   ],
   "source": [
    "subtraction = num2 - num1\n",
    "print(subtraction)"
   ]
  },
  {
   "cell_type": "code",
   "execution_count": 82,
   "id": "8434fcbd-2abf-46c2-9b0c-dffc6010c4c6",
   "metadata": {},
   "outputs": [
    {
     "name": "stdout",
     "output_type": "stream",
     "text": [
      "10\n"
     ]
    }
   ],
   "source": [
    "multiplication = num1 * num2\n",
    "print(multiplication)"
   ]
  },
  {
   "cell_type": "code",
   "execution_count": 84,
   "id": "ffd2e519-5fed-42a6-b06b-e3e5a59c525b",
   "metadata": {},
   "outputs": [
    {
     "name": "stdout",
     "output_type": "stream",
     "text": [
      "0.4\n"
     ]
    }
   ],
   "source": [
    "division = num1 / num2\n",
    "print(division)"
   ]
  },
  {
   "cell_type": "markdown",
   "id": "c64266fc-6e12-4383-bcd1-2d0af1e14bff",
   "metadata": {},
   "source": [
    "Task 4: String Manipulation "
   ]
  },
  {
   "cell_type": "code",
   "execution_count": 112,
   "id": "588e84ff-f45c-4af9-a210-05862de4136c",
   "metadata": {},
   "outputs": [],
   "source": [
    "quote = \"I'll be back.\""
   ]
  },
  {
   "cell_type": "code",
   "execution_count": 114,
   "id": "369697a7-56da-4c98-aeb3-0f86e872ae04",
   "metadata": {},
   "outputs": [
    {
     "name": "stdout",
     "output_type": "stream",
     "text": [
      "13\n"
     ]
    }
   ],
   "source": [
    "print(len(quote))"
   ]
  },
  {
   "cell_type": "code",
   "execution_count": 116,
   "id": "f323a64c-2387-42d7-b01c-15b079c0545f",
   "metadata": {},
   "outputs": [
    {
     "name": "stdout",
     "output_type": "stream",
     "text": [
      "I'LL BE BACK.\n"
     ]
    }
   ],
   "source": [
    "print(quote.upper())"
   ]
  },
  {
   "cell_type": "code",
   "execution_count": 118,
   "id": "3d5f4497-81ab-4e49-9093-7ccb828c5802",
   "metadata": {},
   "outputs": [
    {
     "name": "stdout",
     "output_type": "stream",
     "text": [
      "i'll be back.\n"
     ]
    }
   ],
   "source": [
    "print(quote.lower())"
   ]
  },
  {
   "cell_type": "code",
   "execution_count": 120,
   "id": "9d362ba9-9d7d-453f-ac58-235e82f1a7dd",
   "metadata": {},
   "outputs": [
    {
     "name": "stdout",
     "output_type": "stream",
     "text": [
      "[\"I'll\", 'be', 'back.']\n"
     ]
    }
   ],
   "source": [
    "print(quote.split())"
   ]
  },
  {
   "cell_type": "markdown",
   "id": "c6033d7e-286d-47fa-9b6d-2d88bb25e912",
   "metadata": {},
   "source": [
    "Task 5: User Input and Operations "
   ]
  },
  {
   "cell_type": "code",
   "execution_count": 131,
   "id": "0b7dca9d-b193-45ad-b657-bf8f68b97d09",
   "metadata": {},
   "outputs": [
    {
     "name": "stdin",
     "output_type": "stream",
     "text": [
      "What is the length of your cube: 10\n",
      "What is the width of your cube: 10\n",
      "What is the height of your cube: 10\n"
     ]
    }
   ],
   "source": [
    "length = int(input('What is the length of your cube:'))\n",
    "width = int(input('What is the width of your cube:'))\n",
    "height = int(input('What is the height of your cube:'))"
   ]
  },
  {
   "cell_type": "code",
   "execution_count": 139,
   "id": "c34e0a1f-dba4-4722-a1fd-abbd4cbb6ed6",
   "metadata": {},
   "outputs": [
    {
     "name": "stdout",
     "output_type": "stream",
     "text": [
      "The volume of your cuboid is 1000 units.\n"
     ]
    }
   ],
   "source": [
    "volume = length * width * height\n",
    "print('The volume of your cuboid is ' + str(volume) + ' units.')"
   ]
  },
  {
   "cell_type": "code",
   "execution_count": null,
   "id": "09e6ab72-52cb-44ac-a799-dd6679c45e34",
   "metadata": {},
   "outputs": [],
   "source": []
  }
 ],
 "metadata": {
  "kernelspec": {
   "display_name": "Python [conda env:base] *",
   "language": "python",
   "name": "conda-base-py"
  },
  "language_info": {
   "codemirror_mode": {
    "name": "ipython",
    "version": 3
   },
   "file_extension": ".py",
   "mimetype": "text/x-python",
   "name": "python",
   "nbconvert_exporter": "python",
   "pygments_lexer": "ipython3",
   "version": "3.12.7"
  }
 },
 "nbformat": 4,
 "nbformat_minor": 5
}
