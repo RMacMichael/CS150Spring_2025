{
 "cells": [
  {
   "cell_type": "markdown",
   "id": "5015a4fb-4f42-44d3-9aae-10843d52ced6",
   "metadata": {},
   "source": [
    "# Robert's-Markdown Practice"
   ]
  },
  {
   "cell_type": "markdown",
   "id": "883c76ce-a328-41c4-8e24-716d182423ce",
   "metadata": {},
   "source": [
    "### I'm a sophomore at Bellarmine. I'm from Michigan and like to go fishing. I'm a business major and a member of the lacrosse team here. I've had an interest in coding since highschool. I took some computer science classes then and I thought this would get me back into it. "
   ]
  },
  {
   "cell_type": "code",
   "execution_count": 42,
   "id": "417fc2e1-f255-4fbd-8d75-1ed855c59402",
   "metadata": {},
   "outputs": [
    {
     "name": "stdout",
     "output_type": "stream",
     "text": [
      "\n",
      "\t Assignment 1, Assignment 2, Assignment 3, Assignment 4, assinment 5 \n",
      "\t\n"
     ]
    }
   ],
   "source": [
    "classSchedule = '\\n\\t Assignment 1, Assignment 2, Assignment 3, Assignment 4, assinment 5 \\n\\t'\n",
    "print(classSchedule)"
   ]
  },
  {
   "cell_type": "code",
   "execution_count": 46,
   "id": "98dd99ab-03f9-4c1d-9d73-cd58d214b5d6",
   "metadata": {},
   "outputs": [
    {
     "name": "stdout",
     "output_type": "stream",
     "text": [
      "\n",
      "\t Module 1, Module 2, Module 3, Module 4, Module 5, Module 6, Module 7, Module 8, Module 9, Module 10 \n",
      "\t\n"
     ]
    }
   ],
   "source": [
    "modules = '\\n\\t Module 1, Module 2, Module 3, Module 4, Module 5, Module 6, Module 7, Module 8, Module 9, Module 10 \\n\\t'\n",
    "print(modules)"
   ]
  },
  {
   "cell_type": "markdown",
   "id": "9edcf001-a07d-4d4e-8486-e05c1f11199a",
   "metadata": {},
   "source": [
    "The main language we will be learning is __PYTHON__"
   ]
  },
  {
   "cell_type": "markdown",
   "id": "36df3220-16f7-481b-86ef-04ec760db638",
   "metadata": {},
   "source": [
    "_We are using Jupiter Notebook and GitHub_"
   ]
  },
  {
   "cell_type": "markdown",
   "id": "e2e5f53c-4e76-45c4-8c87-ef60a26e437a",
   "metadata": {},
   "source": [
    "`I have been physically active today`"
   ]
  },
  {
   "cell_type": "markdown",
   "id": "8defa185-fd51-4e5c-b9eb-a68a020d68e7",
   "metadata": {},
   "source": [
    "\n",
    "https://github.com/RMacMichael/CS150Spring_2025"
   ]
  },
  {
   "cell_type": "code",
   "execution_count": 51,
   "id": "4c68ac09-a82c-4fd6-b1aa-0f2abaa7bdbe",
   "metadata": {},
   "outputs": [
    {
     "data": {
      "text/html": [
       "<img src=\"https://content.sportslogos.net/logos/30/6811/full/bellarmine_knights_logo_secondary_2020_sportslogosnet-3879.png\"/>"
      ],
      "text/plain": [
       "<IPython.core.display.Image object>"
      ]
     },
     "metadata": {},
     "output_type": "display_data"
    }
   ],
   "source": [
    "from IPython.display import Image, display\n",
    "image_url = \"https://content.sportslogos.net/logos/30/6811/full/bellarmine_knights_logo_secondary_2020_sportslogosnet-3879.png\"\n",
    "display(Image(url=image_url))"
   ]
  },
  {
   "cell_type": "markdown",
   "id": "a143ae12-3589-4b50-8f2f-794739c28602",
   "metadata": {},
   "source": [
    "Using Markdown I have learned how to place pictures, links, make lists, and dispay text."
   ]
  },
  {
   "cell_type": "code",
   "execution_count": null,
   "id": "431c361a-c611-4b7b-848a-ef31f88c29cb",
   "metadata": {},
   "outputs": [],
   "source": []
  }
 ],
 "metadata": {
  "kernelspec": {
   "display_name": "Python [conda env:base] *",
   "language": "python",
   "name": "conda-base-py"
  },
  "language_info": {
   "codemirror_mode": {
    "name": "ipython",
    "version": 3
   },
   "file_extension": ".py",
   "mimetype": "text/x-python",
   "name": "python",
   "nbconvert_exporter": "python",
   "pygments_lexer": "ipython3",
   "version": "3.12.7"
  }
 },
 "nbformat": 4,
 "nbformat_minor": 5
}
