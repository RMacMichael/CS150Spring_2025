{
 "cells": [
  {
   "cell_type": "markdown",
   "id": "81b2bbc8",
   "metadata": {
    "slideshow": {
     "slide_type": "slide"
    }
   },
   "source": [
    "# Chapter 2: Variables and and Simple Data Types\n",
    "* A variable name is an **identifier**. \n",
    "* May consist of letters, digits and underscores (`_`) but **may not begin with a digit**. \n",
    "* Python is _case sensitive_. \n",
    "* Each value in Python has a type that indicates the kind of data the value represents. "
   ]
  },
  {
   "cell_type": "markdown",
   "id": "9f73fa21",
   "metadata": {
    "slideshow": {
     "slide_type": "slide"
    }
   },
   "source": [
    "####  Write a statement to create variable `myBirthYear` and use the **assignment symbol (`=`)** to give `myBirthYear` a numeric value. "
   ]
  },
  {
   "cell_type": "code",
   "execution_count": null,
   "id": "92846dd3",
   "metadata": {},
   "outputs": [],
   "source": []
  },
  {
   "cell_type": "code",
   "execution_count": null,
   "id": "46ee55db-ed14-402c-80a0-3143da22240a",
   "metadata": {},
   "outputs": [],
   "source": []
  },
  {
   "cell_type": "markdown",
   "id": "87338e34",
   "metadata": {},
   "source": [
    "### Print a message consisting of a quoted sequence of characters"
   ]
  },
  {
   "cell_type": "markdown",
   "id": "e7d83175-2c1d-4b37-b576-2ff1107b3dae",
   "metadata": {},
   "source": [
    "print('Hello World')"
   ]
  },
  {
   "cell_type": "code",
   "execution_count": 15,
   "id": "a991a1a0",
   "metadata": {},
   "outputs": [],
   "source": [
    "x=5*6"
   ]
  },
  {
   "cell_type": "markdown",
   "id": "89fec02b",
   "metadata": {},
   "source": [
    "### Combine our knowledge about variables and printing to output a variable entered in a prior cell."
   ]
  },
  {
   "cell_type": "code",
   "execution_count": 17,
   "id": "4bf85453",
   "metadata": {},
   "outputs": [
    {
     "ename": "NameError",
     "evalue": "name 'myBirthYear' is not defined",
     "output_type": "error",
     "traceback": [
      "\u001b[1;31m---------------------------------------------------------------------------\u001b[0m",
      "\u001b[1;31mNameError\u001b[0m                                 Traceback (most recent call last)",
      "Cell \u001b[1;32mIn[17], line 1\u001b[0m\n\u001b[1;32m----> 1\u001b[0m \u001b[38;5;28mprint\u001b[39m:myBirthYear\n",
      "\u001b[1;31mNameError\u001b[0m: name 'myBirthYear' is not defined"
     ]
    }
   ],
   "source": [
    "print(myBirthYear)"
   ]
  },
  {
   "cell_type": "code",
   "execution_count": null,
   "id": "55bdd6b2",
   "metadata": {},
   "outputs": [],
   "source": []
  },
  {
   "cell_type": "code",
   "execution_count": null,
   "id": "5698773f",
   "metadata": {},
   "outputs": [],
   "source": []
  },
  {
   "cell_type": "markdown",
   "id": "5f8394d9",
   "metadata": {},
   "source": [
    "# Strings"
   ]
  },
  {
   "cell_type": "markdown",
   "id": "be203204",
   "metadata": {},
   "source": [
    "## A string is simply a series of characters. Anything inside quotes is considered a string in Python, and you can use `single` or `double quotes` around your strings\n",
    "### \"This is a string.\"\n",
    "### 'This is also a string.'"
   ]
  },
  {
   "cell_type": "markdown",
   "id": "adae7f7c",
   "metadata": {},
   "source": [
    "###  Build in String methods\n",
    "Use `dir('  ')` to display all possible methods (ways we can manipulate) strings (sequences of characters)."
   ]
  },
  {
   "cell_type": "code",
   "execution_count": null,
   "id": "972ece85",
   "metadata": {},
   "outputs": [],
   "source": [
    "dir(\" \")"
   ]
  },
  {
   "cell_type": "markdown",
   "id": "f0cc290c",
   "metadata": {},
   "source": [
    "### Note: you don't need to worry about most of the methods defined above.  We are interested in a very small subset."
   ]
  },
  {
   "cell_type": "code",
   "execution_count": 23,
   "id": "691e6b3a",
   "metadata": {},
   "outputs": [
    {
     "name": "stdout",
     "output_type": "stream",
     "text": [
      "ROBERT\n"
     ]
    }
   ],
   "source": [
    "# print uppercase version of a string\n",
    "myName = 'Robert'\n",
    "print(myName.upper())\n"
   ]
  },
  {
   "cell_type": "code",
   "execution_count": 25,
   "id": "be0d6351",
   "metadata": {},
   "outputs": [
    {
     "name": "stdout",
     "output_type": "stream",
     "text": [
      "robert\n"
     ]
    }
   ],
   "source": [
    "# print lowercase version of a string\n",
    "print(myName.lower())"
   ]
  },
  {
   "cell_type": "code",
   "execution_count": 27,
   "id": "bdcfb17f",
   "metadata": {},
   "outputs": [
    {
     "name": "stdout",
     "output_type": "stream",
     "text": [
      "Robert\n"
     ]
    }
   ],
   "source": [
    "# capitalize only the first letter in a string\n",
    "\n",
    "print(myName.title())"
   ]
  },
  {
   "cell_type": "code",
   "execution_count": null,
   "id": "dc81e075-60aa-49a0-a5fb-087fc1a888ef",
   "metadata": {},
   "outputs": [],
   "source": [
    "myGreetings = 'hello. today is wednesday.'"
   ]
  },
  {
   "cell_type": "code",
   "execution_count": 31,
   "id": "39359e69",
   "metadata": {},
   "outputs": [
    {
     "ename": "NameError",
     "evalue": "name 'myGreetings' is not defined",
     "output_type": "error",
     "traceback": [
      "\u001b[1;31m---------------------------------------------------------------------------\u001b[0m",
      "\u001b[1;31mNameError\u001b[0m                                 Traceback (most recent call last)",
      "Cell \u001b[1;32mIn[31], line 2\u001b[0m\n\u001b[0;32m      1\u001b[0m \u001b[38;5;66;03m# provide title-case for a string (Notice how this is distinct from capitalizing)\u001b[39;00m\n\u001b[1;32m----> 2\u001b[0m \u001b[38;5;28mprint\u001b[39m(myGreetings\u001b[38;5;241m.\u001b[39mcapitilize())\n",
      "\u001b[1;31mNameError\u001b[0m: name 'myGreetings' is not defined"
     ]
    }
   ],
   "source": [
    "# provide title-case for a string (Notice how this is distinct from capitalizing)\n",
    "print(myGreetings.capitilize())"
   ]
  },
  {
   "cell_type": "code",
   "execution_count": 29,
   "id": "98ccee67",
   "metadata": {},
   "outputs": [
    {
     "name": "stdout",
     "output_type": "stream",
     "text": [
      "hello class.\n",
      "this is cs150.\n"
     ]
    }
   ],
   "source": [
    "# Concatenate two strings (be careful -- this is done in a slightly different fashion!)\n",
    "mystr1 = 'hello class.'\n",
    "mystr2 = 'this is cs150.'\n",
    "print(mystr1)\n",
    "print(mystr2)"
   ]
  },
  {
   "cell_type": "code",
   "execution_count": 33,
   "id": "9a9893d6",
   "metadata": {},
   "outputs": [
    {
     "name": "stdout",
     "output_type": "stream",
     "text": [
      "hello class.this is cs150.\n"
     ]
    }
   ],
   "source": [
    "print(mystr1 + mystr2)"
   ]
  },
  {
   "cell_type": "code",
   "execution_count": null,
   "id": "c157d46f",
   "metadata": {},
   "outputs": [],
   "source": [
    "# Find the number of characters in a string (again, this may vary)"
   ]
  },
  {
   "cell_type": "code",
   "execution_count": null,
   "id": "4579678b",
   "metadata": {},
   "outputs": [],
   "source": []
  },
  {
   "cell_type": "markdown",
   "id": "9bdf8bca",
   "metadata": {},
   "source": [
    "## Practice 1:\n",
    "Personal Message: Store a person’s name in a variable, and print a message\n",
    "to that person. Your message should be simple, such as, “Hello Eric,\n",
    "would you like to learn some Python today?”\n"
   ]
  },
  {
   "cell_type": "code",
   "execution_count": null,
   "id": "69ddf2f9",
   "metadata": {},
   "outputs": [],
   "source": [
    "classmateName = 'Eric'"
   ]
  },
  {
   "cell_type": "code",
   "execution_count": 51,
   "id": "cec8c27b",
   "metadata": {},
   "outputs": [
    {
     "ename": "SyntaxError",
     "evalue": "invalid syntax. Perhaps you forgot a comma? (3571147436.py, line 1)",
     "output_type": "error",
     "traceback": [
      "\u001b[1;36m  Cell \u001b[1;32mIn[51], line 1\u001b[1;36m\u001b[0m\n\u001b[1;33m    print (hello(classmateName)would you like to learn some Python today?)\u001b[0m\n\u001b[1;37m           ^\u001b[0m\n\u001b[1;31mSyntaxError\u001b[0m\u001b[1;31m:\u001b[0m invalid syntax. Perhaps you forgot a comma?\n"
     ]
    }
   ],
   "source": [
    "print (hello(classmateName)would you like to learn some Python today?)"
   ]
  },
  {
   "cell_type": "markdown",
   "id": "720b2630",
   "metadata": {},
   "source": [
    "## Practice 2:\n",
    "Name Cases: Store a person’s name in a variable, and then print that person’s\n",
    "name in lowercase, uppercase, and titlecase."
   ]
  },
  {
   "cell_type": "code",
   "execution_count": 68,
   "id": "7d370a88",
   "metadata": {},
   "outputs": [],
   "source": [
    "familyMember = 'Robert macmichael'"
   ]
  },
  {
   "cell_type": "code",
   "execution_count": 70,
   "id": "a2d89d05",
   "metadata": {},
   "outputs": [
    {
     "name": "stdout",
     "output_type": "stream",
     "text": [
      "familyMember\n"
     ]
    }
   ],
   "source": [
    "print(familyMember)"
   ]
  },
  {
   "cell_type": "raw",
   "id": "2b98bcee-89a8-4d13-a1ec-9389c3df94d7",
   "metadata": {},
   "source": [
    "\n"
   ]
  },
  {
   "cell_type": "code",
   "execution_count": 75,
   "id": "a43e1d7d",
   "metadata": {},
   "outputs": [
    {
     "name": "stdout",
     "output_type": "stream",
     "text": [
      "<built-in method upper of str object at 0x000002384EDF0730>\n"
     ]
    }
   ],
   "source": [
    "print(familyMember.upper)"
   ]
  },
  {
   "cell_type": "markdown",
   "id": "1f7191b0",
   "metadata": {},
   "source": [
    "## Adding Whitespace to Strings with Tabs or Newlines or  quotation\n",
    "* A backslash (`\\`) in a string is the **escape character**. \n",
    "* The backslash and the character immediately following it form an **escape sequence**. \n",
    "\n",
    "#### 2.4.2 Other Escape Sequences\n",
    "| Escape sequence | Description\n",
    "| :------- | :------------\n",
    "| `\\n` | Insert a newline character in a string. When the string is displayed, for each newline, move the screen cursor to the beginning of the next line. \n",
    "| `\\t` | Insert a horizontal tab. When the string is displayed, for each tab, move the screen cursor to the next tab stop. \n",
    "| `\\\\` | Insert a backslash character in a string.\n",
    "| `\\\"` | Insert a double quote character in a string.\n",
    "| `\\'` | Insert a single quote character in a string."
   ]
  },
  {
   "cell_type": "code",
   "execution_count": null,
   "id": "ed57b62f",
   "metadata": {},
   "outputs": [],
   "source": []
  },
  {
   "cell_type": "code",
   "execution_count": null,
   "id": "161cc541",
   "metadata": {},
   "outputs": [],
   "source": []
  },
  {
   "cell_type": "code",
   "execution_count": null,
   "id": "0f6f4862",
   "metadata": {},
   "outputs": [],
   "source": []
  },
  {
   "cell_type": "code",
   "execution_count": null,
   "id": "13159314",
   "metadata": {},
   "outputs": [],
   "source": []
  },
  {
   "cell_type": "code",
   "execution_count": null,
   "id": "bd830981",
   "metadata": {},
   "outputs": [],
   "source": []
  },
  {
   "cell_type": "code",
   "execution_count": null,
   "id": "5057a6ea",
   "metadata": {},
   "outputs": [],
   "source": []
  },
  {
   "cell_type": "markdown",
   "id": "59e57742",
   "metadata": {},
   "source": [
    "## Useful methods for splitting a string\n",
    "- split\n",
    "- rsplit (we'll talk about the difference between this and split later)\n",
    "- splitlines"
   ]
  },
  {
   "cell_type": "code",
   "execution_count": 86,
   "id": "972a849e",
   "metadata": {},
   "outputs": [
    {
     "name": "stdout",
     "output_type": "stream",
     "text": [
      "['hello.', 'Today', 'is', 'Friday', 'the', '17th', 'of', 'january.']\n"
     ]
    }
   ],
   "source": [
    "greetings = \"hello. Today is Friday the 17th of january.\"\n",
    "print(greetings.split())"
   ]
  },
  {
   "cell_type": "code",
   "execution_count": 82,
   "id": "a30d3f33",
   "metadata": {},
   "outputs": [
    {
     "ename": "NameError",
     "evalue": "name 'greetings' is not defined",
     "output_type": "error",
     "traceback": [
      "\u001b[1;31m---------------------------------------------------------------------------\u001b[0m",
      "\u001b[1;31mNameError\u001b[0m                                 Traceback (most recent call last)",
      "Cell \u001b[1;32mIn[82], line 1\u001b[0m\n\u001b[1;32m----> 1\u001b[0m \u001b[38;5;28mprint\u001b[39m(greetings\u001b[38;5;241m.\u001b[39msplit())\n",
      "\u001b[1;31mNameError\u001b[0m: name 'greetings' is not defined"
     ]
    }
   ],
   "source": []
  },
  {
   "cell_type": "code",
   "execution_count": null,
   "id": "64d6d026",
   "metadata": {},
   "outputs": [],
   "source": []
  },
  {
   "cell_type": "markdown",
   "id": "767a741a",
   "metadata": {},
   "source": [
    "## Useful methods for stripping a string of whitespace characters (\" \", \"\\t\", \"\\n\")\n",
    "- lstrip\n",
    "- rstrip\n",
    "- strip"
   ]
  },
  {
   "cell_type": "code",
   "execution_count": 84,
   "id": "a98d7290",
   "metadata": {},
   "outputs": [
    {
     "name": "stdout",
     "output_type": "stream",
     "text": [
      "\n",
      "\thello. this example has white space at the front.\n"
     ]
    }
   ],
   "source": [
    "leadingstring = '\\n\\thello. this example has white space at the front.'\n",
    "print(leadingstring)"
   ]
  },
  {
   "cell_type": "code",
   "execution_count": null,
   "id": "33fcdb4a",
   "metadata": {},
   "outputs": [],
   "source": []
  },
  {
   "cell_type": "code",
   "execution_count": null,
   "id": "878aea11",
   "metadata": {},
   "outputs": [],
   "source": []
  },
  {
   "cell_type": "code",
   "execution_count": null,
   "id": "172ecf84",
   "metadata": {},
   "outputs": [],
   "source": []
  },
  {
   "cell_type": "markdown",
   "id": "59666fd1",
   "metadata": {},
   "source": [
    "## Practice 3\n",
    "1. Stripping Sentences: Create a sentence consisting of multiple words, and include some whitespace characters at the beginning and end of the name. Make sure you use \" \", \"\\t\" and \"\\n\", at least once at the beginning and/or end.\n",
    "Print the sentence once, so the whitespace around the sentence is displayed.\n",
    "Then print the sentence using each of the three stripping functions, lstrip(),\n",
    "rstrip(), and strip()."
   ]
  },
  {
   "cell_type": "code",
   "execution_count": 97,
   "id": "a0fa9df3",
   "metadata": {},
   "outputs": [
    {
     "name": "stdout",
     "output_type": "stream",
     "text": [
      "\n",
      "\t tomatoes, bread, milk \n",
      "\t\n"
     ]
    }
   ],
   "source": [
    "mygroceries = '\\n\\t tomatoes, bread, milk \\n\\t'\n",
    "print(mygroceries)"
   ]
  },
  {
   "cell_type": "code",
   "execution_count": null,
   "id": "26377f7e",
   "metadata": {},
   "outputs": [],
   "source": []
  },
  {
   "cell_type": "code",
   "execution_count": null,
   "id": "b86dc1a6",
   "metadata": {},
   "outputs": [],
   "source": []
  },
  {
   "cell_type": "markdown",
   "id": "7cb5c2e0",
   "metadata": {},
   "source": [
    "#### Replacing words or characters of a string (Note: we're only brushing the surface of what Python can do here!)"
   ]
  },
  {
   "cell_type": "code",
   "execution_count": null,
   "id": "22032818",
   "metadata": {},
   "outputs": [],
   "source": []
  },
  {
   "cell_type": "code",
   "execution_count": null,
   "id": "1631042e",
   "metadata": {},
   "outputs": [],
   "source": []
  },
  {
   "cell_type": "code",
   "execution_count": null,
   "id": "5b3de060",
   "metadata": {},
   "outputs": [],
   "source": []
  },
  {
   "cell_type": "markdown",
   "id": "7a2ff52e",
   "metadata": {},
   "source": [
    "# Number"
   ]
  },
  {
   "cell_type": "markdown",
   "id": "7ed88df4",
   "metadata": {},
   "source": [
    "# Data Types\n",
    "* `float` (floating point) - used for real numbers.\n",
    "* `int` (integer) - used for integers."
   ]
  },
  {
   "cell_type": "markdown",
   "id": "c37ef37a",
   "metadata": {},
   "source": [
    "## Arithmetic Operator\n",
    "| Python operation | Arithmetic operator | Python expression\n",
    "| :-------- | :-------- | :-------- \n",
    "| Addition | `+`  | `f + 7` \n",
    "| Subtraction | `–` | `p - c` \n",
    "| Multiplication | `*` | `b * m` \n",
    "| Exponentiation | `**` |  `x ** y` \n",
    "| True division | `/` | `x / y` \n",
    "| Floor division | `//` | `x // y` \n",
    "| Remainder (modulo) | `%` | `r % s` \n",
    "\n",
    "`Floor division` is an operation in Python that divides two numbers and rounds the result down to the nearest integer."
   ]
  },
  {
   "cell_type": "code",
   "execution_count": 105,
   "id": "ddee7b60",
   "metadata": {},
   "outputs": [
    {
     "name": "stdout",
     "output_type": "stream",
     "text": [
      "26\n",
      "16\n",
      "105\n",
      "4.2\n"
     ]
    }
   ],
   "source": [
    "num1 = 21\n",
    "num2 = 5\n",
    "print(num1+num2)\n",
    "print(num1-num2)\n",
    "print(num1*num2)\n",
    "print(num1/num2)"
   ]
  },
  {
   "cell_type": "code",
   "execution_count": 99,
   "id": "89065958",
   "metadata": {},
   "outputs": [
    {
     "ename": "NameError",
     "evalue": "name 'num1' is not defined",
     "output_type": "error",
     "traceback": [
      "\u001b[1;31m---------------------------------------------------------------------------\u001b[0m",
      "\u001b[1;31mNameError\u001b[0m                                 Traceback (most recent call last)",
      "Cell \u001b[1;32mIn[99], line 1\u001b[0m\n\u001b[1;32m----> 1\u001b[0m \u001b[38;5;28mprint\u001b[39m(num1\u001b[38;5;241m+\u001b[39mnum2)\n",
      "\u001b[1;31mNameError\u001b[0m: name 'num1' is not defined"
     ]
    }
   ],
   "source": []
  },
  {
   "cell_type": "code",
   "execution_count": null,
   "id": "0a916868",
   "metadata": {},
   "outputs": [],
   "source": []
  },
  {
   "cell_type": "markdown",
   "id": "290d4afb",
   "metadata": {},
   "source": [
    "## Avoiding Type Errors with the str() Function"
   ]
  },
  {
   "cell_type": "code",
   "execution_count": 115,
   "id": "d853bd0b",
   "metadata": {},
   "outputs": [
    {
     "name": "stdout",
     "output_type": "stream",
     "text": [
      "the first number I typed was 21\n"
     ]
    }
   ],
   "source": [
    "print('the first number I typed was ' + str( num1))\n"
   ]
  },
  {
   "cell_type": "code",
   "execution_count": null,
   "id": "9da718ed",
   "metadata": {},
   "outputs": [],
   "source": []
  },
  {
   "cell_type": "code",
   "execution_count": null,
   "id": "d3d77d88",
   "metadata": {},
   "outputs": [],
   "source": []
  },
  {
   "cell_type": "code",
   "execution_count": null,
   "id": "5936f26c",
   "metadata": {},
   "outputs": [],
   "source": []
  },
  {
   "cell_type": "markdown",
   "id": "165bd5f8",
   "metadata": {},
   "source": [
    "## Practice 4\n",
    "Basic Arithmetic: Write addition, subtraction, multiplication, and division\n",
    "operations that each result in the number 91. <br>Be sure to enclose your operations\n",
    "in print statements to see the results. You should create four lines that look\n",
    "like this:\n",
    "print([num1] + [num2]), where num1 and num2 are appropriate numbers for the operation.<br>\n",
    "Your output should simply be four lines with the number 91 appearing once\n",
    "on each line.\n"
   ]
  },
  {
   "cell_type": "code",
   "execution_count": 117,
   "id": "0deea5b4",
   "metadata": {},
   "outputs": [
    {
     "name": "stdout",
     "output_type": "stream",
     "text": [
      "91\n",
      "91\n",
      "91.0\n",
      "91.0\n"
     ]
    }
   ],
   "source": [
    "print(50+41)\n",
    "print(100-9)\n",
    "print(182/2)\n",
    "print(45.5*2)"
   ]
  },
  {
   "cell_type": "code",
   "execution_count": null,
   "id": "deae2548-f1c3-4194-8c15-edade0fa7d4c",
   "metadata": {},
   "outputs": [],
   "source": [
    "homework is right here"
   ]
  },
  {
   "cell_type": "code",
   "execution_count": 123,
   "id": "3abdb7ed",
   "metadata": {},
   "outputs": [],
   "source": [
    "# RobertMacMichael - Markdown Practice."
   ]
  },
  {
   "cell_type": "markdown",
   "id": "8debe61b-ba7e-4398-8b56-9fc7f5f96edd",
   "metadata": {},
   "source": [
    "### hi\n"
   ]
  },
  {
   "cell_type": "code",
   "execution_count": null,
   "id": "3ccb694e-aa04-4981-921d-768588fd61cc",
   "metadata": {},
   "outputs": [],
   "source": [
    "## Getting Input from the User\n",
    "* Built-in **`input` function** requests and obtains user input."
   ]
  },
  {
   "cell_type": "code",
   "execution_count": null,
   "id": "4fec3462",
   "metadata": {},
   "outputs": [],
   "source": []
  },
  {
   "cell_type": "code",
   "execution_count": null,
   "id": "d5a698c2",
   "metadata": {},
   "outputs": [],
   "source": []
  },
  {
   "cell_type": "code",
   "execution_count": null,
   "id": "93f54fc5",
   "metadata": {},
   "outputs": [],
   "source": []
  },
  {
   "cell_type": "markdown",
   "id": "476c6426",
   "metadata": {},
   "source": [
    "## Getting an Integer/ Float from the User\n",
    "* If you need an integer, convert the string to an integer using the built-in **`int` / `float` function**. "
   ]
  },
  {
   "cell_type": "code",
   "execution_count": null,
   "id": "1905f791",
   "metadata": {},
   "outputs": [],
   "source": [
    "input('please input a value')"
   ]
  },
  {
   "cell_type": "code",
   "execution_count": null,
   "id": "a8b6814e",
   "metadata": {},
   "outputs": [],
   "source": [
    "Str1 = input('please input a string')"
   ]
  },
  {
   "cell_type": "code",
   "execution_count": 130,
   "id": "884ba1b7-5cdb-4f6d-addb-822de80764a4",
   "metadata": {},
   "outputs": [
    {
     "name": "stdin",
     "output_type": "stream",
     "text": [
      "how much was your gas 50\n"
     ]
    }
   ],
   "source": [
    "cost_pg = float(input('how much was your gas'))"
   ]
  },
  {
   "cell_type": "code",
   "execution_count": null,
   "id": "515d61a7-6230-424d-ad9c-d0a8c748cd06",
   "metadata": {},
   "outputs": [],
   "source": [
    "num_gallons = int(input('How many gllons of gas does your car need?'))"
   ]
  },
  {
   "cell_type": "code",
   "execution_count": 146,
   "id": "b5a7051d-4041-476f-a31e-c965e20bdcea",
   "metadata": {},
   "outputs": [
    {
     "name": "stdout",
     "output_type": "stream",
     "text": [
      "5.0 is your cost per gallon\n"
     ]
    }
   ],
   "source": [
    "print(str(cost_pg / num_gallons) + ' is your cost per gallon')"
   ]
  },
  {
   "cell_type": "markdown",
   "id": "12c87d2e",
   "metadata": {},
   "source": [
    "## Practice 5\n",
    "Favorite Number: Select your own favorite number, and store it in a variable.  Ask a user for their favorite number, and store it in a second variable. Then, using those two variables, create a print message indicating the sum of the two numbers."
   ]
  },
  {
   "cell_type": "code",
   "execution_count": null,
   "id": "ac65d7d0",
   "metadata": {},
   "outputs": [],
   "source": []
  },
  {
   "cell_type": "code",
   "execution_count": null,
   "id": "87cf6c96",
   "metadata": {},
   "outputs": [],
   "source": []
  },
  {
   "cell_type": "code",
   "execution_count": null,
   "id": "b817cf3e",
   "metadata": {},
   "outputs": [],
   "source": []
  },
  {
   "cell_type": "markdown",
   "id": "6ff42bfa",
   "metadata": {},
   "source": [
    "## Checking the data type using `type` function"
   ]
  },
  {
   "cell_type": "code",
   "execution_count": null,
   "id": "e1b73434",
   "metadata": {},
   "outputs": [],
   "source": []
  },
  {
   "cell_type": "code",
   "execution_count": null,
   "id": "5c848906",
   "metadata": {},
   "outputs": [],
   "source": []
  },
  {
   "cell_type": "markdown",
   "id": "fc6e7e28",
   "metadata": {},
   "source": [
    "## Errors in Python\n",
    "When an error occurs in your program, the Python interpreter does its\n",
    "best to help you figure out where the problem is. The interpreter provides\n",
    "a traceback when a program cannot run successfully. A traceback is a record\n",
    "of where the interpreter ran into trouble when trying to execute your code.\n",
    "Errors can be classified into three major groups:\n",
    "- Syntax errors\n",
    "- Runtime errors\n",
    "- Logical errors"
   ]
  },
  {
   "cell_type": "markdown",
   "id": "7fe3220f",
   "metadata": {},
   "source": [
    "### Syntax error.\n",
    "- Python will find these kinds of errors when it tries to parse your program, and exit with an error message without running anything. \n",
    "- Syntax errors are mistakes in the use of the Python language, and are analogous to spelling or grammar mistakes in a language like English: for example, the sentence Would you some tea? does not make sense – it is missing a verb.\n"
   ]
  },
  {
   "cell_type": "markdown",
   "id": "88840cff",
   "metadata": {},
   "source": [
    "### Example:\n",
    "- leaving out a keyword\n",
    "- putting a keyword in the wrong place\n",
    "- leaving out a symbol, such as a colon, comma or brackets\n",
    "- misspelling a keyword\n",
    "- incorrect indentation\n",
    "- empty block"
   ]
  },
  {
   "cell_type": "code",
   "execution_count": null,
   "id": "1b4b64c3",
   "metadata": {},
   "outputs": [],
   "source": []
  },
  {
   "cell_type": "code",
   "execution_count": null,
   "id": "92353ef9",
   "metadata": {},
   "outputs": [],
   "source": []
  },
  {
   "cell_type": "code",
   "execution_count": null,
   "id": "c241756e",
   "metadata": {},
   "outputs": [],
   "source": []
  },
  {
   "cell_type": "markdown",
   "id": "f10a50b1",
   "metadata": {},
   "source": [
    "## Runtime error\n",
    "- A program with a runtime error is one that passed the interpreter’s syntax checks, and started to execute. \n",
    "- However, during the execution of one of the statements in the program, an error occurred that caused the interpreter to stop executing the program and display an error message. \n",
    "- Runtime errors are also called `exceptions` because they usually indicate that something exceptional (and bad) has happened."
   ]
  },
  {
   "cell_type": "markdown",
   "id": "b5ce828a",
   "metadata": {},
   "source": [
    "### Examples: \n",
    "- division by zero.\n",
    "- performing an operation on incompatible types.\n",
    "- using an identifier which has not been defined.\n",
    "- accessing a list element, dictionary value or object attribute which doesn't exist.\n",
    "- trying to access a file which doesn't exist."
   ]
  },
  {
   "cell_type": "code",
   "execution_count": null,
   "id": "7176f581",
   "metadata": {},
   "outputs": [],
   "source": []
  },
  {
   "cell_type": "code",
   "execution_count": null,
   "id": "15f63562",
   "metadata": {},
   "outputs": [],
   "source": []
  },
  {
   "cell_type": "code",
   "execution_count": null,
   "id": "d1402fc5",
   "metadata": {},
   "outputs": [],
   "source": []
  },
  {
   "cell_type": "code",
   "execution_count": null,
   "id": "7b172df3",
   "metadata": {},
   "outputs": [],
   "source": []
  },
  {
   "cell_type": "markdown",
   "id": "6dec365d",
   "metadata": {},
   "source": [
    "### Logical error\n",
    "- Logical errors are the most difficult to fix. They occur when the program runs without crashing, but produces an incorrect result. \n",
    "- The error is caused by a mistake in the program’s logic. \n",
    "- You won’t get an error message, because no syntax or runtime error has occurred. \n",
    "- You will have to find the problem on your own by reviewing all the relevant parts of your code "
   ]
  },
  {
   "cell_type": "code",
   "execution_count": null,
   "id": "49aba111",
   "metadata": {},
   "outputs": [],
   "source": []
  },
  {
   "cell_type": "code",
   "execution_count": null,
   "id": "d62a5c59",
   "metadata": {},
   "outputs": [],
   "source": []
  },
  {
   "cell_type": "code",
   "execution_count": null,
   "id": "16d4bda9",
   "metadata": {},
   "outputs": [],
   "source": []
  },
  {
   "cell_type": "code",
   "execution_count": null,
   "id": "adb4317e",
   "metadata": {},
   "outputs": [],
   "source": []
  },
  {
   "cell_type": "markdown",
   "id": "fa211472",
   "metadata": {},
   "source": [
    "## Flow of Control\n",
    "* A crucial aspect to programming is the order in which operations are executed (flow of control).\n",
    "* The vast majority of languages (Python included) dictate that statements are to be executed one by one in sequential order.\n",
    "    * The Python standard is that statements are separated by line-breaks in top-to-bottom order.\n",
    "    * Python also allows semicolons (;) to break apart multiple statements on a single line.\n",
    "* Various Python statements enable you to subvert standard flow of control. We will look at these in a later chapter. \n",
    "    "
   ]
  },
  {
   "cell_type": "code",
   "execution_count": null,
   "id": "19328b37",
   "metadata": {},
   "outputs": [],
   "source": []
  },
  {
   "cell_type": "markdown",
   "id": "5b67536f",
   "metadata": {},
   "source": [
    "## Practice 6\n",
    "Diagnosing the errors: The code in the first cell below consists of multiple errors.\n",
    "1. Using Markdown in the second cell below, identify each error and its category (logical, run-time, syntax) using a numbered list\n",
    "2. In the third cell below, post a fixed version of the code."
   ]
  },
  {
   "cell_type": "code",
   "execution_count": 154,
   "id": "03cd2f63",
   "metadata": {},
   "outputs": [
    {
     "name": "stdin",
     "output_type": "stream",
     "text": [
      "please input how many items you purchased 1\n"
     ]
    },
    {
     "name": "stdout",
     "output_type": "stream",
     "text": [
      "The total cost of your purchase is $12.71\n"
     ]
    }
   ],
   "source": [
    "product_price = 11.99; taxed_rate = 1.06 \n",
    "product_qty = float(input('please input how many items you purchased'))\n",
    "subtotal = product_price * product_qty\n",
    "taxed_total = subtotal * taxed_rate\n",
    "print('The total cost of your purchase is $' + str(round(taxed_total,2)))\n"
   ]
  },
  {
   "cell_type": "code",
   "execution_count": null,
   "id": "79760eff",
   "metadata": {},
   "outputs": [],
   "source": []
  },
  {
   "cell_type": "code",
   "execution_count": null,
   "id": "dcd7a81f",
   "metadata": {},
   "outputs": [],
   "source": []
  }
 ],
 "metadata": {
  "kernelspec": {
   "display_name": "Python [conda env:base] *",
   "language": "python",
   "name": "conda-base-py"
  },
  "language_info": {
   "codemirror_mode": {
    "name": "ipython",
    "version": 3
   },
   "file_extension": ".py",
   "mimetype": "text/x-python",
   "name": "python",
   "nbconvert_exporter": "python",
   "pygments_lexer": "ipython3",
   "version": "3.12.7"
  }
 },
 "nbformat": 4,
 "nbformat_minor": 5
}
