{
 "cells": [
  {
   "cell_type": "markdown",
   "id": "838d1c2f-4174-4afd-8e62-026ca636d2be",
   "metadata": {},
   "source": [
    "Robert MacMichael Assignment 3 spring 2025"
   ]
  },
  {
   "cell_type": "markdown",
   "id": "a7896d7a-168f-4fb5-86bb-10a49460a223",
   "metadata": {},
   "source": [
    "Task 1: Types of Triangles"
   ]
  },
  {
   "cell_type": "code",
   "execution_count": null,
   "id": "f2d56a2a-1103-462e-b7d9-a4a8aee738a2",
   "metadata": {},
   "outputs": [],
   "source": [
    "A = float(input('What is the length of side 1:'))"
   ]
  },
  {
   "cell_type": "code",
   "execution_count": null,
   "id": "a11b1ada-a650-454a-ab50-febfb925b643",
   "metadata": {},
   "outputs": [],
   "source": [
    "B = float(input('What is te length of side 2:'))"
   ]
  },
  {
   "cell_type": "code",
   "execution_count": null,
   "id": "cabcaa40-74ac-4e4a-9d06-42c6aab4ca76",
   "metadata": {},
   "outputs": [],
   "source": [
    "C = float(input('What is the length of side 3:'))"
   ]
  },
  {
   "cell_type": "code",
   "execution_count": null,
   "id": "7d9aef03-1b1d-44c4-9f37-f88ba410fa8b",
   "metadata": {},
   "outputs": [],
   "source": [
    "if A == B == C:\n",
    "    print('This is an equilateral triangle')\n",
    "elif A == B or A == C or C == B:\n",
    "    print('This is an isosceles triangle')\n",
    "else:\n",
    "    print('This is a scalene triangle')\n"
   ]
  },
  {
   "cell_type": "markdown",
   "id": "9ca58c72-727a-45fe-8024-2cfc5bc489c2",
   "metadata": {},
   "source": [
    "Task 2: Student Grades and At-Risk Status"
   ]
  },
  {
   "cell_type": "code",
   "execution_count": null,
   "id": "9c710650-5ade-4228-8c2e-db508788c7ad",
   "metadata": {},
   "outputs": [],
   "source": [
    "student_grades = []"
   ]
  },
  {
   "cell_type": "code",
   "execution_count": null,
   "id": "0eeda9fe-6538-4a02-899e-259a13b1efd4",
   "metadata": {},
   "outputs": [],
   "source": [
    "for index in range(5):\n",
    "    grade = float(input('please input grades:'))\n",
    "    student_grades.append(grade)"
   ]
  },
  {
   "cell_type": "code",
   "execution_count": null,
   "id": "ccaa0905-56bd-4a91-9ad2-feba8021105d",
   "metadata": {},
   "outputs": [],
   "source": [
    "AVG = sum(student_grades) / 5\n",
    "print(AVG)"
   ]
  },
  {
   "cell_type": "code",
   "execution_count": null,
   "id": "1b0fca09-1512-496a-b269-e1c76c252fff",
   "metadata": {},
   "outputs": [],
   "source": [
    "MIN = min(student_grades)\n",
    "print(MIN)"
   ]
  },
  {
   "cell_type": "code",
   "execution_count": null,
   "id": "22aeeb03-0004-4b88-9b32-1842c4a71c44",
   "metadata": {},
   "outputs": [],
   "source": [
    "MAX = max(student_grades)\n",
    "print(MAX)"
   ]
  },
  {
   "cell_type": "code",
   "execution_count": null,
   "id": "127b0f04-c698-40c8-9b21-9b170ea890ce",
   "metadata": {},
   "outputs": [],
   "source": [
    "students_at_risk = sum(grade < 65 for grade in student_grades)\n",
    "print(str(students_at_risk) + ' at risk of failing this course')"
   ]
  },
  {
   "cell_type": "markdown",
   "id": "10722a20-7a0a-469d-9398-a4f7dc2b3c3f",
   "metadata": {},
   "source": [
    "Task 3: Ranges and Multiples"
   ]
  },
  {
   "cell_type": "code",
   "execution_count": null,
   "id": "c1b611b6-23cd-444a-abc2-6ef3b754fb5d",
   "metadata": {},
   "outputs": [],
   "source": [
    "mult_of_3 = list(range(3, 1001, 3))\n",
    "print(mult_of_3)"
   ]
  },
  {
   "cell_type": "code",
   "execution_count": null,
   "id": "3d76d51f-dd17-4fae-9f68-a4b46a97486f",
   "metadata": {},
   "outputs": [],
   "source": [
    "mult_of_4 = list(range(4, 1001, 4))\n",
    "print(mult_of_4)"
   ]
  },
  {
   "cell_type": "code",
   "execution_count": null,
   "id": "f8d5d9d7-d730-46fc-86e7-7efb018ebe38",
   "metadata": {},
   "outputs": [],
   "source": [
    "for num in range(1,1001):\n",
    "    if num % 3 == 0:\n",
    "        if num % 4 == 0:\n",
    "            print(num, \"is a mult of 3 and 4\")\n",
    "        else:\n",
    "            print(num, \"is a mult of 3 only\")  "
   ]
  },
  {
   "cell_type": "markdown",
   "id": "084ca95a-1bbf-4c1a-9731-fea9915c7168",
   "metadata": {},
   "source": [
    "Task 4: Shopping List "
   ]
  },
  {
   "cell_type": "code",
   "execution_count": 58,
   "id": "448c5334-90cb-4420-bc2f-dc731d3ebc37",
   "metadata": {},
   "outputs": [],
   "source": [
    "shopping_list = []"
   ]
  },
  {
   "cell_type": "code",
   "execution_count": 60,
   "id": "2fbbbd64-06a0-47b8-be75-71e5920ee71a",
   "metadata": {},
   "outputs": [
    {
     "name": "stdin",
     "output_type": "stream",
     "text": [
      "enter an item for your shopping list or type 'done' to stop:  Rice\n",
      "enter an item for your shopping list or type 'done' to stop:  Beans\n",
      "enter an item for your shopping list or type 'done' to stop:  done\n"
     ]
    }
   ],
   "source": [
    "while len(shopping_list) < 7:\n",
    "    item = input(\"enter an item for your shopping list or type 'done' to stop: \")\n",
    "    if item == \"done\":\n",
    "        break\n",
    "    shopping_list.append(item)"
   ]
  },
  {
   "cell_type": "code",
   "execution_count": 62,
   "id": "8bdcc104-aa72-410a-b230-303c6a8495a9",
   "metadata": {},
   "outputs": [
    {
     "name": "stdout",
     "output_type": "stream",
     "text": [
      "Total number of items: 2\n",
      "Shopping list in reverse order: ['Beans', 'Rice']\n",
      "Shopping list in alphabetical order: ['Beans', 'Rice']\n"
     ]
    }
   ],
   "source": [
    "print(\"Total number of items:\", len(shopping_list))\n",
    "\n",
    "print(\"Shopping list in reverse order:\", shopping_list[::-1])\n",
    "\n",
    "print(\"Shopping list in alphabetical order:\", sorted(shopping_list))"
   ]
  },
  {
   "cell_type": "code",
   "execution_count": 64,
   "id": "04acb898-5540-4b33-aa6e-77d0f19fe6f5",
   "metadata": {},
   "outputs": [],
   "source": [
    "staple_foods = (\"Rice\", \"Beans\", \"Corn\", \"Carrots\", \"Potatoes\")"
   ]
  },
  {
   "cell_type": "code",
   "execution_count": 78,
   "id": "039d315b-21ff-4d00-9947-44f257f1f132",
   "metadata": {},
   "outputs": [
    {
     "name": "stdout",
     "output_type": "stream",
     "text": [
      "2 staple foods are present\n"
     ]
    }
   ],
   "source": [
    "staple_count = sum(1 for item in shopping_list if item in staple_foods)\n",
    "print(str(staple_count) + ' staple foods are present')"
   ]
  }
 ],
 "metadata": {
  "kernelspec": {
   "display_name": "Python [conda env:base] *",
   "language": "python",
   "name": "conda-base-py"
  },
  "language_info": {
   "codemirror_mode": {
    "name": "ipython",
    "version": 3
   },
   "file_extension": ".py",
   "mimetype": "text/x-python",
   "name": "python",
   "nbconvert_exporter": "python",
   "pygments_lexer": "ipython3",
   "version": "3.12.7"
  }
 },
 "nbformat": 4,
 "nbformat_minor": 5
}
